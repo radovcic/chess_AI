{
 "cells": [
  {
   "cell_type": "code",
   "execution_count": 1,
   "metadata": {},
   "outputs": [],
   "source": [
    "import chess\n",
    "import chess.pgn\n",
    "import numpy as np\n",
    "from scipy import sparse\n",
    "import time\n",
    "import hedgehog_functions as hf"
   ]
  },
  {
   "cell_type": "code",
   "execution_count": 2,
   "metadata": {},
   "outputs": [
    {
     "data": {
      "text/plain": [
       "'0.24.2'"
      ]
     },
     "execution_count": 2,
     "metadata": {},
     "output_type": "execute_result"
    }
   ],
   "source": [
    "chess.__version__"
   ]
  },
  {
   "cell_type": "markdown",
   "metadata": {},
   "source": [
    "# Data extraction"
   ]
  },
  {
   "cell_type": "markdown",
   "metadata": {},
   "source": [
    "## - File"
   ]
  },
  {
   "cell_type": "code",
   "execution_count": 2,
   "metadata": {},
   "outputs": [],
   "source": [
    "files = ([\"KingBaseLite2019-A00-A39\", \"KingBaseLite2019-A40-A79\", \"KingBaseLite2019-A80-A99\",\n",
    "          \"KingBaseLite2019-B00-B19\", \"KingBaseLite2019-B20-B49\", \"KingBaseLite2019-B50-B99\",\n",
    "          \"KingBaseLite2019-C00-C19\", \"KingBaseLite2019-C20-C59\", \"KingBaseLite2019-C60-C99\",\n",
    "          \"KingBaseLite2019-D00-D29\", \"KingBaseLite2019-D30-D69\", \"KingBaseLite2019-D70-D99\",\n",
    "          \"KingBaseLite2019-E00-E19\", \"KingBaseLite2019-E20-E59\", \"KingBaseLite2019-E60-E99\"])\n",
    "file_name = files[10]\n",
    "pgn = open(file_name + \".pgn\")"
   ]
  },
  {
   "cell_type": "code",
   "execution_count": 3,
   "metadata": {},
   "outputs": [
    {
     "name": "stdout",
     "output_type": "stream",
     "text": [
      "Total number of games in pgn file KingBaseLite2019-D30-D69.pgn is 79502.\n"
     ]
    }
   ],
   "source": [
    "number_games = hf.count_games(pgn)\n",
    "print(\"Total number of games in pgn file \" + file_name + \".pgn is \" + str(number_games) + \".\")"
   ]
  },
  {
   "cell_type": "markdown",
   "metadata": {},
   "source": [
    "## - Extract data"
   ]
  },
  {
   "cell_type": "code",
   "execution_count": 4,
   "metadata": {},
   "outputs": [
    {
     "name": "stdout",
     "output_type": "stream",
     "text": [
      "Total computation time = 49.20s and for n = 1000 computation time = 49.20s.\n",
      "Total computation time = 98.36s and for n = 2000 computation time = 49.16s.\n",
      "Total computation time = 144.45s and for n = 3000 computation time = 46.09s.\n",
      "Total computation time = 191.78s and for n = 4000 computation time = 47.33s.\n",
      "Total computation time = 238.64s and for n = 5000 computation time = 46.86s.\n",
      "Total computation time = 286.20s and for n = 6000 computation time = 47.56s.\n",
      "Total computation time = 344.56s and for n = 7000 computation time = 58.36s.\n",
      "Total computation time = 390.58s and for n = 8000 computation time = 46.02s.\n",
      "Total computation time = 438.81s and for n = 9000 computation time = 48.23s.\n",
      "Total computation time = 485.53s and for n = 10000 computation time = 46.72s.\n",
      "Total computation time = 532.50s and for n = 11000 computation time = 46.97s.\n",
      "Total computation time = 580.30s and for n = 12000 computation time = 47.80s.\n",
      "Total computation time = 626.19s and for n = 13000 computation time = 45.89s.\n",
      "Total computation time = 684.19s and for n = 14000 computation time = 58.00s.\n",
      "Total computation time = 734.03s and for n = 15000 computation time = 49.84s.\n",
      "Total computation time = 782.41s and for n = 16000 computation time = 48.38s.\n",
      "Total computation time = 834.58s and for n = 17000 computation time = 52.17s.\n",
      "Total computation time = 883.06s and for n = 18000 computation time = 48.48s.\n",
      "Total computation time = 929.84s and for n = 19000 computation time = 46.78s.\n",
      "Total computation time = 976.55s and for n = 20000 computation time = 46.70s.\n",
      "Total computation time = 1034.39s and for n = 21000 computation time = 57.84s.\n",
      "Total computation time = 1081.69s and for n = 22000 computation time = 47.30s.\n",
      "Total computation time = 1126.39s and for n = 23000 computation time = 44.70s.\n",
      "Total computation time = 1174.50s and for n = 24000 computation time = 48.11s.\n",
      "Total computation time = 1218.70s and for n = 25000 computation time = 44.20s.\n",
      "Total computation time = 1265.39s and for n = 26000 computation time = 46.69s.\n",
      "Total computation time = 1313.41s and for n = 27000 computation time = 48.00s.\n",
      "Total computation time = 1370.03s and for n = 28000 computation time = 56.62s.\n",
      "Total computation time = 1412.61s and for n = 29000 computation time = 42.58s.\n",
      "Total computation time = 1458.36s and for n = 30000 computation time = 45.75s.\n",
      "Total computation time = 1502.72s and for n = 31000 computation time = 44.36s.\n",
      "Total computation time = 1548.25s and for n = 32000 computation time = 45.53s.\n",
      "Total computation time = 1591.64s and for n = 33000 computation time = 43.39s.\n",
      "Total computation time = 1631.20s and for n = 34000 computation time = 39.56s.\n",
      "Total computation time = 1683.05s and for n = 35000 computation time = 51.84s.\n",
      "Total computation time = 1724.86s and for n = 36000 computation time = 41.81s.\n",
      "Total computation time = 1770.98s and for n = 37000 computation time = 46.12s.\n",
      "Total computation time = 1813.98s and for n = 38000 computation time = 43.00s.\n",
      "Total computation time = 1853.94s and for n = 39000 computation time = 39.95s.\n",
      "Total computation time = 1894.39s and for n = 40000 computation time = 40.45s.\n",
      "Total computation time = 1934.91s and for n = 41000 computation time = 40.52s.\n",
      "Total computation time = 1986.38s and for n = 42000 computation time = 51.47s.\n",
      "Total computation time = 2026.55s and for n = 43000 computation time = 40.16s.\n",
      "Total computation time = 2066.27s and for n = 44000 computation time = 39.72s.\n",
      "Total computation time = 2106.39s and for n = 45000 computation time = 40.12s.\n",
      "Total computation time = 2143.58s and for n = 46000 computation time = 37.19s.\n",
      "Total computation time = 2185.31s and for n = 47000 computation time = 41.73s.\n",
      "Total computation time = 2223.70s and for n = 48000 computation time = 38.39s.\n",
      "Total computation time = 2262.95s and for n = 49000 computation time = 39.25s.\n",
      "Total computation time = 2314.05s and for n = 50000 computation time = 51.09s.\n",
      "Total computation time = 2354.36s and for n = 51000 computation time = 40.31s.\n",
      "Total computation time = 2392.47s and for n = 52000 computation time = 38.11s.\n",
      "Total computation time = 2428.69s and for n = 53000 computation time = 36.22s.\n",
      "Total computation time = 2467.97s and for n = 54000 computation time = 39.28s.\n",
      "Total computation time = 2505.77s and for n = 55000 computation time = 37.80s.\n",
      "Total computation time = 2545.50s and for n = 56000 computation time = 39.73s.\n",
      "Total computation time = 2594.94s and for n = 57000 computation time = 49.44s.\n",
      "Total computation time = 2634.27s and for n = 58000 computation time = 39.33s.\n",
      "Total computation time = 2673.11s and for n = 59000 computation time = 38.84s.\n",
      "Total computation time = 2712.56s and for n = 60000 computation time = 39.45s.\n",
      "Total computation time = 2751.48s and for n = 61000 computation time = 38.92s.\n",
      "Total computation time = 2790.61s and for n = 62000 computation time = 39.12s.\n",
      "Total computation time = 2829.44s and for n = 63000 computation time = 38.83s.\n",
      "Total computation time = 2868.34s and for n = 64000 computation time = 38.91s.\n",
      "Total computation time = 2916.81s and for n = 65000 computation time = 48.47s.\n",
      "Total computation time = 2955.58s and for n = 66000 computation time = 38.77s.\n",
      "Total computation time = 2994.22s and for n = 67000 computation time = 38.64s.\n",
      "Total computation time = 3032.27s and for n = 68000 computation time = 38.05s.\n",
      "Total computation time = 3071.83s and for n = 69000 computation time = 39.56s.\n",
      "Total computation time = 3110.81s and for n = 70000 computation time = 38.98s.\n",
      "Total computation time = 3149.19s and for n = 71000 computation time = 38.38s.\n",
      "Total computation time = 3186.86s and for n = 72000 computation time = 37.67s.\n",
      "Total computation time = 3236.06s and for n = 73000 computation time = 49.20s.\n",
      "Total computation time = 3275.75s and for n = 74000 computation time = 39.69s.\n",
      "Total computation time = 3316.09s and for n = 75000 computation time = 40.34s.\n",
      "Total computation time = 3352.89s and for n = 76000 computation time = 36.80s.\n",
      "Total computation time = 3391.70s and for n = 77000 computation time = 38.81s.\n",
      "Total computation time = 3429.55s and for n = 78000 computation time = 37.84s.\n",
      "Total computation time = 3467.50s and for n = 79000 computation time = 37.95s.\n",
      "Total computation time = 3506.73s.\n"
     ]
    }
   ],
   "source": [
    "data, positions_plies, games_plies = hf.pgn_to_data(pgn, number_games)"
   ]
  },
  {
   "cell_type": "code",
   "execution_count": 5,
   "metadata": {},
   "outputs": [
    {
     "name": "stdout",
     "output_type": "stream",
     "text": [
      "Total number of positions is 5481012.\n",
      "Shape of data is (10962024, 1549).\n"
     ]
    }
   ],
   "source": [
    "print(\"Total number of positions is \" + str(positions_plies.shape[0]) + \".\")\n",
    "print(\"Shape of data is \" + str(data.shape) + \".\")"
   ]
  },
  {
   "cell_type": "markdown",
   "metadata": {},
   "source": [
    "## - Save data"
   ]
  },
  {
   "cell_type": "code",
   "execution_count": 6,
   "metadata": {},
   "outputs": [],
   "source": [
    "np.save(file_name + \"_positions_plies.npy\", positions_plies)\n",
    "np.save(file_name + \"_games_plies.npy\", games_plies)"
   ]
  },
  {
   "cell_type": "code",
   "execution_count": 7,
   "metadata": {},
   "outputs": [],
   "source": [
    "sparse.save_npz(file_name + \"_data.npz\", data)"
   ]
  }
 ],
 "metadata": {
  "coursera": {
   "course_slug": "neural-networks-deep-learning",
   "graded_item_id": "c4HO0",
   "launcher_item_id": "lSYZM"
  },
  "kernelspec": {
   "display_name": "Python 3",
   "language": "python",
   "name": "python3"
  },
  "language_info": {
   "codemirror_mode": {
    "name": "ipython",
    "version": 3
   },
   "file_extension": ".py",
   "mimetype": "text/x-python",
   "name": "python",
   "nbconvert_exporter": "python",
   "pygments_lexer": "ipython3",
   "version": "3.6.7"
  }
 },
 "nbformat": 4,
 "nbformat_minor": 1
}
