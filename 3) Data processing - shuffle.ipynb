{
 "cells": [
  {
   "cell_type": "code",
   "execution_count": 1,
   "metadata": {},
   "outputs": [],
   "source": [
    "import numpy as np\n",
    "from scipy import sparse"
   ]
  },
  {
   "cell_type": "markdown",
   "metadata": {},
   "source": [
    "# Data processing"
   ]
  },
  {
   "cell_type": "markdown",
   "metadata": {},
   "source": [
    "## - File"
   ]
  },
  {
   "cell_type": "code",
   "execution_count": 2,
   "metadata": {},
   "outputs": [],
   "source": [
    "files = ([\"KingBaseLite2019-A00-A39\", \"KingBaseLite2019-A40-A79\", \"KingBaseLite2019-A80-A99\",\n",
    "          \"KingBaseLite2019-B00-B19\", \"KingBaseLite2019-B20-B49\", \"KingBaseLite2019-B50-B99\",\n",
    "          \"KingBaseLite2019-C00-C19\", \"KingBaseLite2019-C20-C59\", \"KingBaseLite2019-C60-C99\",\n",
    "          \"KingBaseLite2019-D00-D29\", \"KingBaseLite2019-D30-D69\", \"KingBaseLite2019-D70-D99\",\n",
    "          \"KingBaseLite2019-E00-E19\", \"KingBaseLite2019-E20-E59\", \"KingBaseLite2019-E60-E99\"])"
   ]
  },
  {
   "cell_type": "markdown",
   "metadata": {},
   "source": [
    "## - Shuffle data"
   ]
  },
  {
   "cell_type": "code",
   "execution_count": 3,
   "metadata": {},
   "outputs": [],
   "source": [
    "for file_name in files:\n",
    "    data = sparse.load_npz(file_name + \"_data.npz\")\n",
    "    np.random.seed(123)\n",
    "    index = np.arange(data.shape[0])\n",
    "    np.random.shuffle(index)\n",
    "    data = data[index, :]\n",
    "    sparse.save_npz(file_name + \"_data.npz\", data)"
   ]
  }
 ],
 "metadata": {
  "coursera": {
   "course_slug": "neural-networks-deep-learning",
   "graded_item_id": "c4HO0",
   "launcher_item_id": "lSYZM"
  },
  "kernelspec": {
   "display_name": "Python 3",
   "language": "python",
   "name": "python3"
  },
  "language_info": {
   "codemirror_mode": {
    "name": "ipython",
    "version": 3
   },
   "file_extension": ".py",
   "mimetype": "text/x-python",
   "name": "python",
   "nbconvert_exporter": "python",
   "pygments_lexer": "ipython3",
   "version": "3.6.7"
  }
 },
 "nbformat": 4,
 "nbformat_minor": 1
}
