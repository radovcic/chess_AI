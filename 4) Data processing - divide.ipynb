{
 "cells": [
  {
   "cell_type": "code",
   "execution_count": 1,
   "metadata": {},
   "outputs": [],
   "source": [
    "import numpy as np\n",
    "from scipy import sparse"
   ]
  },
  {
   "cell_type": "markdown",
   "metadata": {},
   "source": [
    "# Data processing"
   ]
  },
  {
   "cell_type": "markdown",
   "metadata": {},
   "source": [
    "## - File"
   ]
  },
  {
   "cell_type": "code",
   "execution_count": 2,
   "metadata": {},
   "outputs": [],
   "source": [
    "files = ([\"KingBaseLite2019-A00-A39\", \"KingBaseLite2019-A40-A79\", \"KingBaseLite2019-A80-A99\",\n",
    "          \"KingBaseLite2019-B00-B19\", \"KingBaseLite2019-B20-B49\", \"KingBaseLite2019-B50-B99\",\n",
    "          \"KingBaseLite2019-C00-C19\", \"KingBaseLite2019-C20-C59\", \"KingBaseLite2019-C60-C99\",\n",
    "          \"KingBaseLite2019-D00-D29\", \"KingBaseLite2019-D30-D69\", \"KingBaseLite2019-D70-D99\",\n",
    "          \"KingBaseLite2019-E00-E19\", \"KingBaseLite2019-E20-E59\", \"KingBaseLite2019-E60-E99\"])"
   ]
  },
  {
   "cell_type": "markdown",
   "metadata": {},
   "source": [
    "## - Divide data"
   ]
  },
  {
   "cell_type": "code",
   "execution_count": 3,
   "metadata": {},
   "outputs": [],
   "source": [
    "def concatenate_csr_matrices_by_rows(matrix1, matrix2):\n",
    "    \n",
    "    new_data = np.concatenate((matrix1.data, matrix2.data))\n",
    "    new_indices = np.concatenate((matrix1.indices, matrix2.indices))\n",
    "    new_ind_ptr = matrix2.indptr + len(matrix1.data)\n",
    "    new_ind_ptr = new_ind_ptr[1:]\n",
    "    new_ind_ptr = np.concatenate((matrix1.indptr, new_ind_ptr))\n",
    "\n",
    "    return sparse.csr_matrix((new_data, new_indices, new_ind_ptr))"
   ]
  },
  {
   "cell_type": "code",
   "execution_count": 4,
   "metadata": {},
   "outputs": [],
   "source": [
    "m=5*10**6"
   ]
  },
  {
   "cell_type": "code",
   "execution_count": 5,
   "metadata": {},
   "outputs": [
    {
     "name": "stdout",
     "output_type": "stream",
     "text": [
      "i=1,j=0 : data=19993870\n"
     ]
    }
   ],
   "source": [
    "i=0\n",
    "j=0\n",
    "file_name = files[i]\n",
    "data = sparse.load_npz(file_name + \"_data.npz\")\n",
    "i+=1\n",
    "print(\"i=\" +str(i) + \",j=\" + str(j) + \" : data=\" + str(data.shape[0]))"
   ]
  },
  {
   "cell_type": "code",
   "execution_count": 6,
   "metadata": {},
   "outputs": [
    {
     "name": "stdout",
     "output_type": "stream",
     "text": [
      "i=1,j=1 : data=14993870\n",
      "i=1,j=2 : data=9993870\n",
      "i=1,j=3 : data=4993870\n",
      "i=2,j=3 : data=17669228,data_temp=12675358\n",
      "i=2,j=4 : data=12669228\n",
      "i=2,j=5 : data=7669228\n",
      "i=2,j=6 : data=2669228\n",
      "i=3,j=6 : data=5212210,data_temp=2542982\n",
      "i=3,j=7 : data=212210\n",
      "i=4,j=7 : data=14650918,data_temp=14438708\n",
      "i=4,j=8 : data=9650918\n",
      "i=4,j=9 : data=4650918\n",
      "i=5,j=9 : data=23822216,data_temp=19171298\n",
      "i=5,j=10 : data=18822216\n",
      "i=5,j=11 : data=13822216\n",
      "i=5,j=12 : data=8822216\n",
      "i=5,j=13 : data=3822216\n",
      "i=6,j=13 : data=18033788,data_temp=14211572\n",
      "i=6,j=14 : data=13033788\n",
      "i=6,j=15 : data=8033788\n",
      "i=6,j=16 : data=3033788\n",
      "i=7,j=16 : data=12408788,data_temp=9375000\n",
      "i=7,j=17 : data=7408788\n",
      "i=7,j=18 : data=2408788\n",
      "i=8,j=18 : data=11172444,data_temp=8763656\n",
      "i=8,j=19 : data=6172444\n",
      "i=8,j=20 : data=1172444\n",
      "i=9,j=20 : data=9703470,data_temp=8531026\n",
      "i=9,j=21 : data=4703470\n",
      "i=10,j=21 : data=17116892,data_temp=12413422\n",
      "i=10,j=22 : data=12116892\n",
      "i=10,j=23 : data=7116892\n",
      "i=10,j=24 : data=2116892\n",
      "i=11,j=24 : data=13078916,data_temp=10962024\n",
      "i=11,j=25 : data=8078916\n",
      "i=11,j=26 : data=3078916\n",
      "i=12,j=26 : data=7765864,data_temp=4686948\n",
      "i=12,j=27 : data=2765864\n",
      "i=13,j=27 : data=11783768,data_temp=9017904\n",
      "i=13,j=28 : data=6783768\n",
      "i=13,j=29 : data=1783768\n",
      "i=14,j=29 : data=7107772,data_temp=5324004\n",
      "i=14,j=30 : data=2107772\n",
      "i=15,j=30 : data=11517170,data_temp=9409398\n",
      "i=15,j=31 : data=6517170\n",
      "i=15,j=32 : data=1517170\n"
     ]
    }
   ],
   "source": [
    "while j<=31:\n",
    "    n=data.shape[0]\n",
    "    if n>m:\n",
    "        j+=1\n",
    "        sparse.save_npz(\"data_\" + str(j) + \".npz\",data[0:m,:])\n",
    "        data = data[m:n,:]\n",
    "        print(\"i=\" +str(i) + \",j=\" + str(j) + \" : data=\" + str(data.shape[0]))\n",
    "    else:\n",
    "        file_name = files[i]\n",
    "        data_temp = sparse.load_npz(file_name + \"_data.npz\")\n",
    "        i+=1\n",
    "        data = concatenate_csr_matrices_by_rows(data, data_temp)\n",
    "        print(\"i=\" +str(i) + \",j=\" + str(j) + \" : data=\" + str(data.shape[0]) +  \",data_temp=\" + str(data_temp.shape[0]))"
   ]
  },
  {
   "cell_type": "code",
   "execution_count": 7,
   "metadata": {},
   "outputs": [],
   "source": [
    "sparse.save_npz(\"data_test.npz\",data)"
   ]
  }
 ],
 "metadata": {
  "coursera": {
   "course_slug": "neural-networks-deep-learning",
   "graded_item_id": "c4HO0",
   "launcher_item_id": "lSYZM"
  },
  "kernelspec": {
   "display_name": "Python 3",
   "language": "python",
   "name": "python3"
  },
  "language_info": {
   "codemirror_mode": {
    "name": "ipython",
    "version": 3
   },
   "file_extension": ".py",
   "mimetype": "text/x-python",
   "name": "python",
   "nbconvert_exporter": "python",
   "pygments_lexer": "ipython3",
   "version": "3.6.7"
  }
 },
 "nbformat": 4,
 "nbformat_minor": 1
}
